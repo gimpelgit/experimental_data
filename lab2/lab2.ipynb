{
 "cells": [
  {
   "cell_type": "markdown",
   "metadata": {},
   "source": [
    "# Лабораторная работа №2"
   ]
  },
  {
   "cell_type": "markdown",
   "metadata": {},
   "source": [
    "## Подключение библиотек\n",
    "\n",
    "Подключим сторонние библиотеки:\n",
    "\n",
    "- `numpy` для удобной работы с данными\n",
    "- `matplotlib` для рисование графиков"
   ]
  },
  {
   "cell_type": "code",
   "execution_count": 2,
   "metadata": {},
   "outputs": [],
   "source": [
    "import numpy as np\n",
    "import matplotlib.pyplot as plt"
   ]
  },
  {
   "cell_type": "markdown",
   "metadata": {},
   "source": [
    "Также подключим некоторые стандартные библиотеки"
   ]
  },
  {
   "cell_type": "code",
   "execution_count": 42,
   "metadata": {},
   "outputs": [],
   "source": [
    "from pprint import pprint\n",
    "from collections import Counter\n",
    "from typing import List, Union, Tuple"
   ]
  },
  {
   "cell_type": "markdown",
   "metadata": {},
   "source": [
    "## Дополнительно \n",
    "\n",
    "Создадим функцию для более короткого представления массива из элементов np.float"
   ]
  },
  {
   "cell_type": "code",
   "execution_count": 43,
   "metadata": {},
   "outputs": [],
   "source": [
    "def arr_to_str(arr: List[Union[np.float64, Tuple[np.float64, np.float64]]], digits: int = 4) -> str:\n",
    "    def round_value(x):\n",
    "        return round(float(x), digits)\n",
    "    \n",
    "    if arr and isinstance(arr[0], tuple):\n",
    "        return str([(round_value(x), round_value(y)) for x, y in arr])\n",
    "    else:\n",
    "        return str([round_value(x) for x in arr])"
   ]
  },
  {
   "cell_type": "markdown",
   "metadata": {},
   "source": [
    "## Импорт данных\n",
    "\n",
    "Загрузим **файлы данных** и проверим корректно ли они загрузились"
   ]
  },
  {
   "cell_type": "code",
   "execution_count": 5,
   "metadata": {},
   "outputs": [
    {
     "name": "stdout",
     "output_type": "stream",
     "text": [
      "[array([3., 1., 1., ..., 1., 1., 3.], shape=(100000,)),\n",
      " array([ 90.547448,  80.548716,  92.992958, ...,   9.088514, 328.988096,\n",
      "        84.872411], shape=(10000,)),\n",
      " array([0.002163, 0.023507, 0.067606, ..., 0.109763, 0.041012, 0.040421],\n",
      "      shape=(100000,))]\n"
     ]
    }
   ],
   "source": [
    "data_sets = []\n",
    "for i in range(3):\n",
    "    filename = f'set_{i + 1}.csv'\n",
    "    try:\n",
    "        cur_data = np.loadtxt(filename, delimiter=',')\n",
    "        data_sets.append(cur_data)\n",
    "    except FileNotFoundError:\n",
    "        print(f\"Ошибка: Файл {filename} не найден\")\n",
    "    except ValueError:\n",
    "        print(f\"Ошибка: Некорректный формат данных в файле {filename}\")\n",
    "\n",
    "SIZE = len(data_sets)\n",
    "pprint(data_sets)"
   ]
  },
  {
   "cell_type": "markdown",
   "metadata": {},
   "source": [
    "## Анализ данных"
   ]
  },
  {
   "cell_type": "markdown",
   "metadata": {},
   "source": [
    "Выборочное математическое ожидание можем найти по следующей формуле:\n",
    "\n",
    "$$\\bar{x}_{B}=\\frac{x_1+x_2+\\ldots+x_n}{n}$$\n",
    "\n",
    "А несмещенную (исправленную) дисперсию по следующей формуле:\n",
    "\n",
    "$$s^2=\\frac{1}{n-1}\\sum_{i=1}^{n} (x_i - \\bar{x}_{B})^2$$"
   ]
  },
  {
   "cell_type": "code",
   "execution_count": 6,
   "metadata": {},
   "outputs": [],
   "source": [
    "def calculate_mean(data: np.ndarray) -> np.float64:    \n",
    "    return sum(data) / len(data)\n",
    "\n",
    "\n",
    "def calculate_unbiased_variance(data: np.ndarray, mean: np.float64 | None = None) -> np.float64:\n",
    "    if mean is None:\n",
    "        mean = calculate_mean(data)\n",
    "    return 1 / (len(data) - 1) * sum((data[i] - mean) ** 2 for i in range(len(data))) "
   ]
  },
  {
   "cell_type": "markdown",
   "metadata": {},
   "source": [
    "Посчитаем $\\bar{x}_B$, а также $s^2$ для каждого набора данных"
   ]
  },
  {
   "cell_type": "code",
   "execution_count": 7,
   "metadata": {},
   "outputs": [
    {
     "name": "stdout",
     "output_type": "stream",
     "text": [
      "Выборочное мат. ожидание: [3.4408, 16.2433, 0.1245]\n",
      "Выборочная несмещенная дисперсия: [10.0483, 10928.4975, 0.0256]\n"
     ]
    }
   ],
   "source": [
    "means = [calculate_mean(data_sets[i]) for i in range(SIZE)]\n",
    "unbiased_variances = [calculate_unbiased_variance(data_sets[i], means[i]) for i in range(SIZE)]\n",
    "\n",
    "print(\"Выборочное мат. ожидание:\", arr_to_str(means))\n",
    "print(\"Выборочная несмещенная дисперсия:\", arr_to_str(unbiased_variances))"
   ]
  },
  {
   "cell_type": "markdown",
   "metadata": {
    "vscode": {
     "languageId": "bat"
    }
   },
   "source": [
    "## Построение доверительных интервалов"
   ]
  },
  {
   "cell_type": "markdown",
   "metadata": {},
   "source": [
    "Сначала нужно построить таблицу критических точек распределения Стьюдента ($t$-распределения). Построю её, например, для уровня значимости $a=0.1$"
   ]
  },
  {
   "cell_type": "code",
   "execution_count": null,
   "metadata": {},
   "outputs": [],
   "source": [
    "def _get_t_table():\n",
    "    t_table = {\n",
    "        1: 6.31, 2: 2.92, 3: 2.35, 4: 2.13, 5: 2.01,\n",
    "        6: 1.94, 7: 1.89, 8: 1.86, 9: 1.83, 10: 1.81,\n",
    "        11: 1.80, 12: 1.78, 13: 1.77, 14: 1.76, 15: 1.75,\n",
    "        16: 1.75, 17: 1.74, 18: 1.73, 19: 1.73, 20: 1.73,\n",
    "        21: 1.72, 22: 1.72, 23: 1.71, 24: 1.71, 25: 1.71,\n",
    "        26: 1.71, 27: 1.71, 28: 1.70, 29: 1.70, 30: 1.70,\n",
    "        40: 1.68, 60: 1.67, 120: 1.66, float('inf'): 1.64,\n",
    "    }\n",
    "\n",
    "    def wrapper(n: int) -> float:\n",
    "        if n in t_table:\n",
    "            return t_table[n]\n",
    "        \n",
    "        if n > 120:\n",
    "            return 1.66 - (1.66 - 1.64) * min((n - 120) / 10000, 1)\n",
    "        \n",
    "        lower_n = max(k for k in t_table if k < n)\n",
    "        upper_n = min(k for k in t_table if k > n)\n",
    "        \n",
    "        lower_val = t_table[lower_n]\n",
    "        upper_val = t_table[upper_n]\n",
    "        \n",
    "        ratio = (n - lower_n) / (upper_n - lower_n)\n",
    "        return lower_val + ratio * (upper_val - lower_val)\n",
    "    return wrapper\n",
    "\n",
    "\n",
    "t = _get_t_table()"
   ]
  },
  {
   "cell_type": "markdown",
   "metadata": {},
   "source": [
    "Теперь найдем доверительный интервал для математического ожидания, в предположении, что у нас данные подчиняются нормальному распределению.\n",
    "\n",
    "Искомый интервал $(a, b)$ ищется по формулам:\n",
    "$$a=\\bar{x}_B - \\frac{t_{n-1} \\cdot s}{\\sqrt{n}}$$\n",
    "\n",
    "$$b=\\bar{x}_B + \\frac{t_{n-1} \\cdot s}{\\sqrt{n}}$$"
   ]
  },
  {
   "cell_type": "code",
   "execution_count": 39,
   "metadata": {},
   "outputs": [],
   "source": [
    "def get_mean_interval(mean: np.float64, s: np.float64, n: int):\n",
    "    part = t(n - 1) * s / np.sqrt(n)\n",
    "    return ((mean - part), (mean + part))"
   ]
  },
  {
   "cell_type": "markdown",
   "metadata": {},
   "source": [
    "Рассчитаем искомые интервалы математического ожидания для каждого набора данных."
   ]
  },
  {
   "cell_type": "code",
   "execution_count": 47,
   "metadata": {},
   "outputs": [
    {
     "name": "stdout",
     "output_type": "stream",
     "text": [
      "[(3.4243, 3.4572), (14.5286, 17.958), (0.1237, 0.1253)]\n"
     ]
    }
   ],
   "source": [
    "mean_intervals = [\n",
    "    get_mean_interval(means[i], np.sqrt(unbiased_variances[i]), len(data_sets[i]))\n",
    "    for i in range(SIZE)\n",
    "]\n",
    "\n",
    "print(arr_to_str(mean_intervals))"
   ]
  },
  {
   "cell_type": "markdown",
   "metadata": {},
   "source": []
  },
  {
   "cell_type": "markdown",
   "metadata": {},
   "source": []
  },
  {
   "cell_type": "markdown",
   "metadata": {},
   "source": []
  },
  {
   "cell_type": "markdown",
   "metadata": {},
   "source": [
    "Скопирую функцию, использованную в 1 лабораторной работе, для генерации нормальных случайных величин."
   ]
  },
  {
   "cell_type": "code",
   "execution_count": null,
   "metadata": {},
   "outputs": [],
   "source": [
    "def box_muller():\n",
    "    u1 = np.random.rand()\n",
    "    u2 = np.random.rand()\n",
    "    \n",
    "    r = np.sqrt(-2 * np.log(1 - u1))\n",
    "    theta = 2 * np.pi * u2\n",
    "\n",
    "    x = r * np.cos(theta)\n",
    "    y = r * np.sin(theta)\n",
    "    return x, y\n",
    "\n",
    "\n",
    "def normal_distribution(mean: float, variance: float, size: int) -> np.ndarray:\n",
    "    std_dev = np.sqrt(variance)\n",
    "    random_numbers = np.zeros(size)\n",
    "\n",
    "    for i in range(size // 2):\n",
    "        x, y = box_muller()\n",
    "\n",
    "        random_numbers[2*i] = x * std_dev + mean\n",
    "        random_numbers[2*i + 1] = y * std_dev + mean\n",
    "    \n",
    "    if size % 2 != 0:\n",
    "        x, y = box_muller()\n",
    "        random_numbers[-1] = x * std_dev + mean\n",
    "    return random_numbers\n"
   ]
  },
  {
   "cell_type": "markdown",
   "metadata": {},
   "source": []
  },
  {
   "cell_type": "markdown",
   "metadata": {},
   "source": []
  }
 ],
 "metadata": {
  "kernelspec": {
   "display_name": "venv",
   "language": "python",
   "name": "python3"
  },
  "language_info": {
   "codemirror_mode": {
    "name": "ipython",
    "version": 3
   },
   "file_extension": ".py",
   "mimetype": "text/x-python",
   "name": "python",
   "nbconvert_exporter": "python",
   "pygments_lexer": "ipython3",
   "version": "3.12.3"
  }
 },
 "nbformat": 4,
 "nbformat_minor": 2
}
