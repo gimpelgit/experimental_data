{
 "cells": [
  {
   "cell_type": "markdown",
   "id": "5f75914c",
   "metadata": {},
   "source": [
    "Подключим сторонние библиотеки:\n",
    "\n",
    "- `numpy` для удобной работы с данными\n",
    "- `matplotlib` для рисование графиков"
   ]
  },
  {
   "cell_type": "code",
   "execution_count": 1,
   "id": "2283d547",
   "metadata": {},
   "outputs": [],
   "source": [
    "import numpy as np\n",
    "# import matplotlib"
   ]
  },
  {
   "cell_type": "markdown",
   "id": "f4f750bb",
   "metadata": {},
   "source": [
    "Также подключим некоторые стандартные библиотеки"
   ]
  },
  {
   "cell_type": "code",
   "execution_count": 10,
   "id": "327bb8a1",
   "metadata": {},
   "outputs": [],
   "source": [
    "import sys\n",
    "from pprint import pprint\n",
    "from collections import Counter"
   ]
  },
  {
   "cell_type": "markdown",
   "id": "8b8e59e0",
   "metadata": {},
   "source": [
    "Загрузим **файлы данных** и проверим корректно ли они загрузились"
   ]
  },
  {
   "cell_type": "code",
   "execution_count": 3,
   "id": "0f3146df",
   "metadata": {},
   "outputs": [
    {
     "name": "stdout",
     "output_type": "stream",
     "text": [
      "[array([3., 1., 1., ..., 1., 1., 3.], shape=(100000,)),\n",
      " array([ 90.547448,  80.548716,  92.992958, ...,   9.088514, 328.988096,\n",
      "        84.872411], shape=(10000,)),\n",
      " array([0.002163, 0.023507, 0.067606, ..., 0.109763, 0.041012, 0.040421],\n",
      "      shape=(100000,))]\n"
     ]
    }
   ],
   "source": [
    "data = []\n",
    "for i in range(3):\n",
    "    filename = f'set_{i + 1}.csv'\n",
    "    try:\n",
    "        cur_data = np.loadtxt(filename, delimiter=',')\n",
    "        data.append(cur_data)\n",
    "    except FileNotFoundError:\n",
    "        print(f\"Ошибка: Файл {filename} не найден\")\n",
    "    except ValueError:\n",
    "        print(f\"Ошибка: Некорректный формат данных в файле {filename}\")\n",
    "\n",
    "pprint(data)"
   ]
  },
  {
   "cell_type": "markdown",
   "id": "cc837f2f",
   "metadata": {},
   "source": [
    "Для начала нам нужно найти вероятность для каждого элемента из предоставленных данных. Поэтому напишем функцию `calculate_distribution` и найдем вероятности для каждого набора."
   ]
  },
  {
   "cell_type": "code",
   "execution_count": 44,
   "id": "03324fff",
   "metadata": {},
   "outputs": [],
   "source": [
    "def calculate_distribution (numbers: np.ndarray) -> dict[float, float]:    \n",
    "    frequency = Counter(numbers)\n",
    "    total_count = len(numbers)\n",
    "    distribution = {num: count / total_count for num, count in frequency.items()}\n",
    "    return distribution\n",
    "\n",
    "\n",
    "distributions = [calculate_distribution(numbers) for numbers in data]"
   ]
  },
  {
   "cell_type": "markdown",
   "id": "4332d959-1b1e-47ed-a205-d9ac2f50283b",
   "metadata": {},
   "source": [
    "Теперь давайте напишем функцию нахождения **математического ожидания** и **дисперсии**. Назовем эти функции `calculate_mean` и `calculate_variance`"
   ]
  },
  {
   "cell_type": "code",
   "execution_count": 45,
   "id": "37079c53",
   "metadata": {},
   "outputs": [
    {
     "name": "stdout",
     "output_type": "stream",
     "text": [
      "Матиматическое ожидание: [np.float64(3.44078), np.float64(16.24328321380006), np.float64(0.12448845074999963)]\n",
      "Дисперсия: [np.float64(10.048192991600002), np.float64(10927.404627653377), np.float64(0.025645435018138645)]\n"
     ]
    }
   ],
   "source": [
    "def calculate_mean(distribution: dict) -> float:    \n",
    "    return sum(num * prob for num, prob in distribution.items())\n",
    "\n",
    "\n",
    "def calculate_variance(distribution: dict, mean: float | None = None) -> float:\n",
    "    if mean is None:\n",
    "        mean = calculate_mean(distribution)\n",
    "    return sum(prob * (num - mean) ** 2 for num, prob in distribution.items())\n",
    "\n",
    "\n",
    "means = [calculate_mean(distribution) for distribution in distributions]\n",
    "variances = [calculate_variance(distribution, mean) for distribution, mean in \n",
    "             zip(distributions, means)]\n",
    "print(f\"Матиматическое ожидание:\", means)\n",
    "print(f\"Дисперсия:\", variances)"
   ]
  }
 ],
 "metadata": {
  "kernelspec": {
   "display_name": "venv",
   "language": "python",
   "name": "python3"
  },
  "language_info": {
   "codemirror_mode": {
    "name": "ipython",
    "version": 3
   },
   "file_extension": ".py",
   "mimetype": "text/x-python",
   "name": "python",
   "nbconvert_exporter": "python",
   "pygments_lexer": "ipython3",
   "version": "3.11.4"
  }
 },
 "nbformat": 4,
 "nbformat_minor": 5
}
